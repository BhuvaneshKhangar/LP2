{
 "cells": [
  {
   "cell_type": "code",
   "execution_count": 1,
   "id": "71341b68",
   "metadata": {},
   "outputs": [
    {
     "name": "stdout",
     "output_type": "stream",
     "text": [
      "Requirement already satisfied: yfinance in c:\\users\\bhuva\\appdata\\roaming\\python\\python38\\site-packages (0.2.18)\n",
      "Requirement already satisfied: cryptography>=3.3.2 in c:\\users\\bhuva\\anaconda3\\lib\\site-packages (from yfinance) (3.4.7)\n",
      "Note: you may need to restart the kernel to use updated packages.Requirement already satisfied: requests>=2.26 in c:\\users\\bhuva\\appdata\\roaming\\python\\python38\\site-packages (from yfinance) (2.31.0)\n",
      "\n",
      "Requirement already satisfied: pandas>=1.3.0 in c:\\users\\bhuva\\appdata\\roaming\\python\\python38\\site-packages (from yfinance) (2.0.1)\n",
      "Requirement already satisfied: multitasking>=0.0.7 in c:\\users\\bhuva\\appdata\\roaming\\python\\python38\\site-packages (from yfinance) (0.0.11)\n",
      "Requirement already satisfied: frozendict>=2.3.4 in c:\\users\\bhuva\\appdata\\roaming\\python\\python38\\site-packages (from yfinance) (2.3.8)\n",
      "Requirement already satisfied: html5lib>=1.1 in c:\\users\\bhuva\\anaconda3\\lib\\site-packages (from yfinance) (1.1)\n",
      "Requirement already satisfied: lxml>=4.9.1 in c:\\users\\bhuva\\appdata\\roaming\\python\\python38\\site-packages (from yfinance) (4.9.2)\n",
      "Requirement already satisfied: pytz>=2022.5 in c:\\users\\bhuva\\appdata\\roaming\\python\\python38\\site-packages (from yfinance) (2023.3)\n",
      "Requirement already satisfied: beautifulsoup4>=4.11.1 in c:\\users\\bhuva\\appdata\\roaming\\python\\python38\\site-packages (from yfinance) (4.12.2)\n",
      "Requirement already satisfied: numpy>=1.16.5 in c:\\users\\bhuva\\appdata\\roaming\\python\\python38\\site-packages (from yfinance) (1.24.3)\n",
      "Requirement already satisfied: appdirs>=1.4.4 in c:\\users\\bhuva\\anaconda3\\lib\\site-packages (from yfinance) (1.4.4)\n",
      "Requirement already satisfied: soupsieve>1.2 in c:\\users\\bhuva\\anaconda3\\lib\\site-packages (from beautifulsoup4>=4.11.1->yfinance) (2.2.1)\n",
      "Requirement already satisfied: cffi>=1.12 in c:\\users\\bhuva\\anaconda3\\lib\\site-packages (from cryptography>=3.3.2->yfinance) (1.14.5)\n",
      "Requirement already satisfied: pycparser in c:\\users\\bhuva\\anaconda3\\lib\\site-packages (from cffi>=1.12->cryptography>=3.3.2->yfinance) (2.20)\n",
      "Requirement already satisfied: webencodings in c:\\users\\bhuva\\anaconda3\\lib\\site-packages (from html5lib>=1.1->yfinance) (0.5.1)\n",
      "Requirement already satisfied: six>=1.9 in c:\\users\\bhuva\\anaconda3\\lib\\site-packages (from html5lib>=1.1->yfinance) (1.15.0)\n",
      "Requirement already satisfied: python-dateutil>=2.8.2 in c:\\users\\bhuva\\appdata\\roaming\\python\\python38\\site-packages (from pandas>=1.3.0->yfinance) (2.8.2)\n",
      "Requirement already satisfied: tzdata>=2022.1 in c:\\users\\bhuva\\appdata\\roaming\\python\\python38\\site-packages (from pandas>=1.3.0->yfinance) (2023.3)\n",
      "Requirement already satisfied: urllib3<3,>=1.21.1 in c:\\users\\bhuva\\anaconda3\\lib\\site-packages (from requests>=2.26->yfinance) (1.26.4)\n",
      "Requirement already satisfied: idna<4,>=2.5 in c:\\users\\bhuva\\anaconda3\\lib\\site-packages (from requests>=2.26->yfinance) (2.10)\n",
      "Requirement already satisfied: charset-normalizer<4,>=2 in c:\\users\\bhuva\\appdata\\roaming\\python\\python38\\site-packages (from requests>=2.26->yfinance) (3.1.0)\n",
      "Requirement already satisfied: certifi>=2017.4.17 in c:\\users\\bhuva\\anaconda3\\lib\\site-packages (from requests>=2.26->yfinance) (2020.12.5)\n"
     ]
    }
   ],
   "source": [
    "pip install yfinance --user"
   ]
  },
  {
   "cell_type": "code",
   "execution_count": 2,
   "id": "7eb06b14",
   "metadata": {},
   "outputs": [
    {
     "name": "stdout",
     "output_type": "stream",
     "text": [
      "Name: yfinance\n",
      "Version: 0.2.18\n",
      "Summary: Download market data from Yahoo! Finance API\n",
      "Home-page: https://github.com/ranaroussi/yfinance\n",
      "Author: Ran Aroussi\n",
      "Author-email: ran@aroussi.com\n",
      "License: Apache\n",
      "Location: c:\\users\\bhuva\\appdata\\roaming\\python\\python38\\site-packages\n",
      "Requires: beautifulsoup4, lxml, html5lib, pytz, numpy, requests, cryptography, frozendict, pandas, appdirs, multitasking\n",
      "Required-by: \n",
      "Note: you may need to restart the kernel to use updated packages.\n"
     ]
    }
   ],
   "source": [
    "pip show yfinance"
   ]
  },
  {
   "cell_type": "code",
   "execution_count": 3,
   "id": "3e0589a2",
   "metadata": {},
   "outputs": [],
   "source": [
    "import numpy as np\n",
    "import pandas as pd\n",
    "import matplotlib.pyplot as plt\n",
    "import yfinance as yf\n",
    "\n",
    "google = yf.Ticker(\"GOOG\")"
   ]
  },
  {
   "cell_type": "code",
   "execution_count": 4,
   "id": "278a0e01",
   "metadata": {},
   "outputs": [
    {
     "name": "stdout",
     "output_type": "stream",
     "text": [
      "                                 Open        High         Low       Close   \n",
      "Datetime                                                                    \n",
      "2023-05-25 09:30:00-04:00  125.209999  125.980003  125.180000  125.699997  \\\n",
      "2023-05-25 09:31:00-04:00  125.699997  125.779999  124.877502  125.019997   \n",
      "2023-05-25 09:32:00-04:00  125.019997  125.434196  124.889999  124.919998   \n",
      "2023-05-25 09:33:00-04:00  124.949997  125.290001  124.870003  125.099998   \n",
      "2023-05-25 09:34:00-04:00  125.080002  125.110001  124.769997  125.110001   \n",
      "\n",
      "                            Volume  Dividends  Stock Splits  \n",
      "Datetime                                                     \n",
      "2023-05-25 09:30:00-04:00  2210805        0.0           0.0  \n",
      "2023-05-25 09:31:00-04:00   370352        0.0           0.0  \n",
      "2023-05-25 09:32:00-04:00   271595        0.0           0.0  \n",
      "2023-05-25 09:33:00-04:00   203465        0.0           0.0  \n",
      "2023-05-25 09:34:00-04:00   163335        0.0           0.0  \n"
     ]
    }
   ],
   "source": [
    "df = google.history(period='1d', interval=\"1m\")\n",
    "print(df.head())"
   ]
  },
  {
   "cell_type": "code",
   "execution_count": 5,
   "id": "a3580154",
   "metadata": {},
   "outputs": [
    {
     "data": {
      "text/html": [
       "<div>\n",
       "<style scoped>\n",
       "    .dataframe tbody tr th:only-of-type {\n",
       "        vertical-align: middle;\n",
       "    }\n",
       "\n",
       "    .dataframe tbody tr th {\n",
       "        vertical-align: top;\n",
       "    }\n",
       "\n",
       "    .dataframe thead th {\n",
       "        text-align: right;\n",
       "    }\n",
       "</style>\n",
       "<table border=\"1\" class=\"dataframe\">\n",
       "  <thead>\n",
       "    <tr style=\"text-align: right;\">\n",
       "      <th></th>\n",
       "      <th>Low</th>\n",
       "    </tr>\n",
       "    <tr>\n",
       "      <th>Datetime</th>\n",
       "      <th></th>\n",
       "    </tr>\n",
       "  </thead>\n",
       "  <tbody>\n",
       "    <tr>\n",
       "      <th>2023-05-25 09:30:00-04:00</th>\n",
       "      <td>125.180000</td>\n",
       "    </tr>\n",
       "    <tr>\n",
       "      <th>2023-05-25 09:31:00-04:00</th>\n",
       "      <td>124.877502</td>\n",
       "    </tr>\n",
       "    <tr>\n",
       "      <th>2023-05-25 09:32:00-04:00</th>\n",
       "      <td>124.889999</td>\n",
       "    </tr>\n",
       "    <tr>\n",
       "      <th>2023-05-25 09:33:00-04:00</th>\n",
       "      <td>124.870003</td>\n",
       "    </tr>\n",
       "    <tr>\n",
       "      <th>2023-05-25 09:34:00-04:00</th>\n",
       "      <td>124.769997</td>\n",
       "    </tr>\n",
       "  </tbody>\n",
       "</table>\n",
       "</div>"
      ],
      "text/plain": [
       "                                  Low\n",
       "Datetime                             \n",
       "2023-05-25 09:30:00-04:00  125.180000\n",
       "2023-05-25 09:31:00-04:00  124.877502\n",
       "2023-05-25 09:32:00-04:00  124.889999\n",
       "2023-05-25 09:33:00-04:00  124.870003\n",
       "2023-05-25 09:34:00-04:00  124.769997"
      ]
     },
     "execution_count": 5,
     "metadata": {},
     "output_type": "execute_result"
    }
   ],
   "source": [
    "df = google.history(period='1d', interval=\"1m\")\n",
    "df = df[['Low']]\n",
    "df.head()"
   ]
  },
  {
   "cell_type": "code",
   "execution_count": 6,
   "id": "6b2facd6",
   "metadata": {},
   "outputs": [
    {
     "data": {
      "text/html": [
       "<div>\n",
       "<style scoped>\n",
       "    .dataframe tbody tr th:only-of-type {\n",
       "        vertical-align: middle;\n",
       "    }\n",
       "\n",
       "    .dataframe tbody tr th {\n",
       "        vertical-align: top;\n",
       "    }\n",
       "\n",
       "    .dataframe thead th {\n",
       "        text-align: right;\n",
       "    }\n",
       "</style>\n",
       "<table border=\"1\" class=\"dataframe\">\n",
       "  <thead>\n",
       "    <tr style=\"text-align: right;\">\n",
       "      <th></th>\n",
       "      <th>Low</th>\n",
       "    </tr>\n",
       "    <tr>\n",
       "      <th>date</th>\n",
       "      <th></th>\n",
       "    </tr>\n",
       "  </thead>\n",
       "  <tbody>\n",
       "    <tr>\n",
       "      <th>09:30:00</th>\n",
       "      <td>125.180000</td>\n",
       "    </tr>\n",
       "    <tr>\n",
       "      <th>09:31:00</th>\n",
       "      <td>124.877502</td>\n",
       "    </tr>\n",
       "    <tr>\n",
       "      <th>09:32:00</th>\n",
       "      <td>124.889999</td>\n",
       "    </tr>\n",
       "    <tr>\n",
       "      <th>09:33:00</th>\n",
       "      <td>124.870003</td>\n",
       "    </tr>\n",
       "    <tr>\n",
       "      <th>09:34:00</th>\n",
       "      <td>124.769997</td>\n",
       "    </tr>\n",
       "  </tbody>\n",
       "</table>\n",
       "</div>"
      ],
      "text/plain": [
       "                 Low\n",
       "date                \n",
       "09:30:00  125.180000\n",
       "09:31:00  124.877502\n",
       "09:32:00  124.889999\n",
       "09:33:00  124.870003\n",
       "09:34:00  124.769997"
      ]
     },
     "execution_count": 6,
     "metadata": {},
     "output_type": "execute_result"
    }
   ],
   "source": [
    "df['date'] = pd.to_datetime(df.index).time\n",
    "df.set_index('date', inplace=True)\n",
    "df.head()"
   ]
  },
  {
   "cell_type": "code",
   "execution_count": 7,
   "id": "285d600a",
   "metadata": {},
   "outputs": [],
   "source": [
    "X = df.index.values\n",
    "y = df['Low'].values\n",
    "# The split point is the 10% of the dataframe length\n",
    "offset = int(0.10*len(df))\n",
    "X_train = X[:-offset]\n",
    "y_train = y[:-offset]\n",
    "X_test  = X[-offset:]\n",
    "y_test  = y[-offset:]"
   ]
  },
  {
   "cell_type": "code",
   "execution_count": 8,
   "id": "f1e32f90",
   "metadata": {},
   "outputs": [
    {
     "data": {
      "image/png": "[encoded data removed]",
      "text/plain": [
       "<Figure size 432x288 with 1 Axes>"
      ]
     },
     "metadata": {
      "needs_background": "light"
     },
     "output_type": "display_data"
    }
   ],
   "source": [
    "plt.plot(range(0,len(y_train)),y_train, label='Train')\n",
    "plt.plot(range(len(y_train),len(y)),y_test,label='Test')\n",
    "plt.legend()\n",
    "plt.show()"
   ]
  },
  {
   "cell_type": "code",
   "execution_count": 9,
   "id": "39b5c561",
   "metadata": {},
   "outputs": [
    {
     "name": "stdout",
     "output_type": "stream",
     "text": [
      "Real data for time 0: 123.68000030517578\n",
      "Real data for time 1: 123.67009735107422\n"
     ]
    }
   ],
   "source": [
    "print(f'Real data for time 0: {y_train[len(y_train)-1]}')\n",
    "print(f'Real data for time 1: {y_test[0]}')\n"
   ]
  },
  {
   "cell_type": "code",
   "execution_count": null,
   "id": "feb741d4",
   "metadata": {},
   "outputs": [],
   "source": []
  }
 ],
 "metadata": {
  "kernelspec": {
   "display_name": "Python 3",
   "language": "python",
   "name": "python3"
  },
  "language_info": {
   "codemirror_mode": {
    "name": "ipython",
    "version": 3
   },
   "file_extension": ".py",
   "mimetype": "text/x-python",
   "name": "python",
   "nbconvert_exporter": "python",
   "pygments_lexer": "ipython3",
   "version": "3.8.8"
  }
 },
 "nbformat": 4,
 "nbformat_minor": 5
}
